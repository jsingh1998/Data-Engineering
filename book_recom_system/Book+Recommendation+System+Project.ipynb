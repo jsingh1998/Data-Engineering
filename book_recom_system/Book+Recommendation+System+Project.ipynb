{
 "cells": [
  {
   "cell_type": "markdown",
   "metadata": {
    "application/vnd.databricks.v1+cell": {
     "cellMetadata": {},
     "inputWidgets": {},
     "nuid": "386cc9b9-177c-4649-a5e3-a88455b187eb",
     "showTitle": false,
     "title": ""
    }
   },
   "source": [
    "### Configuring Spark to Access Azure Data Lake Storage"
   ]
  },
  {
   "cell_type": "code",
   "execution_count": null,
   "metadata": {
    "application/vnd.databricks.v1+cell": {
     "cellMetadata": {
      "byteLimit": 2048000,
      "rowLimit": 10000
     },
     "inputWidgets": {},
     "nuid": "27bbc8ca-4087-4037-a210-3242912a7d4e",
     "showTitle": false,
     "title": ""
    }
   },
   "outputs": [],
   "source": [
    "spark.conf.set(\n",
    "\"fs.azure.account.key.<storage-account>.dfs.core.windows.net\",\n",
    "\"<storage account key>\") "
   ]
  },
  {
   "cell_type": "code",
   "execution_count": null,
   "metadata": {
    "application/vnd.databricks.v1+cell": {
     "cellMetadata": {
      "byteLimit": 2048000,
      "rowLimit": 10000
     },
     "inputWidgets": {},
     "nuid": "9dd84b58-a604-4dcc-92d2-b12680242f5d",
     "showTitle": false,
     "title": ""
    }
   },
   "outputs": [],
   "source": [
    "# Define the path to the ADLS Gen2 storage container\n",
    "adls_path = \"abfss://<target-container>@<storage-account>.dfs.core.windows.net/\"\n",
    "\n",
    "# Use dbutils.fs.ls to list the contents of the specified path\n",
    "contents = dbutils.fs.ls(adls_path)\n"
   ]
  },
  {
   "cell_type": "code",
   "execution_count": null,
   "metadata": {
    "application/vnd.databricks.v1+cell": {
     "cellMetadata": {
      "byteLimit": 2048000,
      "rowLimit": 10000
     },
     "inputWidgets": {},
     "nuid": "49496048-0859-417d-873e-8ded463f9a7d",
     "showTitle": false,
     "title": ""
    }
   },
   "outputs": [
    {
     "data": {
      "text/plain": [
       "[FileInfo(path='abfss://sourcedata@sgabigdataproject1.dfs.core.windows.net/Books.csv', name='Books.csv', size=73293635, modificationTime=1713327175000),\n",
       " FileInfo(path='abfss://sourcedata@sgabigdataproject1.dfs.core.windows.net/Ratings.csv', name='Ratings.csv', size=22633892, modificationTime=1713327492000),\n",
       " FileInfo(path='abfss://sourcedata@sgabigdataproject1.dfs.core.windows.net/Users.csv', name='Users.csv', size=11017438, modificationTime=1713327562000)]"
      ]
     },
     "execution_count": 12,
     "metadata": {},
     "output_type": "execute_result"
    }
   ],
   "source": [
    "contents"
   ]
  },
  {
   "cell_type": "code",
   "execution_count": null,
   "metadata": {
    "application/vnd.databricks.v1+cell": {
     "cellMetadata": {},
     "inputWidgets": {},
     "nuid": "a6d05957-038a-489d-8cd4-c9f1103d901b",
     "showTitle": false,
     "title": ""
    }
   },
   "outputs": [],
   "source": []
  },
  {
   "cell_type": "markdown",
   "metadata": {
    "application/vnd.databricks.v1+cell": {
     "cellMetadata": {},
     "inputWidgets": {},
     "nuid": "75674e88-3e28-476d-9b9e-7de5f492e1cf",
     "showTitle": false,
     "title": ""
    }
   },
   "source": [
    "## Importing Libraries and Loading Data\n"
   ]
  },
  {
   "cell_type": "code",
   "execution_count": null,
   "metadata": {
    "application/vnd.databricks.v1+cell": {
     "cellMetadata": {
      "byteLimit": 2048000,
      "rowLimit": 10000
     },
     "inputWidgets": {},
     "nuid": "9bf292c2-7c43-4c7c-b73d-76ccccca521d",
     "showTitle": false,
     "title": ""
    }
   },
   "outputs": [],
   "source": [
    "# Import necessary libraries\n",
    "from pyspark.sql import SparkSession\n",
    "from pyspark.sql.functions import col, count, desc, isnull, mean, when, explode\n",
    "from pyspark.sql import functions as F\n",
    "\n",
    "\n",
    "# Initialize the Spark session\n",
    "spark = SparkSession.builder.appName(\"Book Recommendation System\").getOrCreate()"
   ]
  },
  {
   "cell_type": "code",
   "execution_count": null,
   "metadata": {
    "application/vnd.databricks.v1+cell": {
     "cellMetadata": {
      "byteLimit": 2048000,
      "rowLimit": 10000
     },
     "inputWidgets": {},
     "nuid": "99a7b5fa-fdf6-4956-a1a9-8e4b3ac1cdfb",
     "showTitle": false,
     "title": ""
    }
   },
   "outputs": [],
   "source": [
    "# Define the path to the storage container\n",
    "adls_path = \"abfss://<target-container>@<storage-account>.dfs.core.windows.net/\"\n",
    "\n",
    "# Load Books dataset \n",
    "books_df = spark.read.csv(adls_path + 'Books.csv', header=True, inferSchema=True)\n",
    "\n",
    "# Load Ratings dataset \n",
    "ratings_df = spark.read.csv(adls_path + 'Ratings.csv', header=True, inferSchema=True)\n",
    "\n",
    "# Load Users dataset \n",
    "users_df = spark.read.csv(adls_path + 'Users.csv', header=True, inferSchema=True)\n",
    "\n"
   ]
  },
  {
   "cell_type": "markdown",
   "metadata": {
    "application/vnd.databricks.v1+cell": {
     "cellMetadata": {},
     "inputWidgets": {},
     "nuid": "380cb03c-be40-4d4f-be41-55cd5b73d9c0",
     "showTitle": false,
     "title": ""
    }
   },
   "source": [
    "## 1. Basic Statistics\n"
   ]
  },
  {
   "cell_type": "code",
   "execution_count": null,
   "metadata": {
    "application/vnd.databricks.v1+cell": {
     "cellMetadata": {
      "byteLimit": 2048000,
      "rowLimit": 10000
     },
     "inputWidgets": {},
     "nuid": "d5f88daf-4148-4e38-ae86-8a618c305c4d",
     "showTitle": false,
     "title": ""
    }
   },
   "outputs": [
    {
     "name": "stdout",
     "output_type": "stream",
     "text": [
      "Books dataset statistics:\n",
      "+-------+--------------------+--------------------+--------------------+--------------------+--------------------+--------------------+--------------------+--------------------+\n",
      "|summary|                ISBN|          Book-Title|         Book-Author| Year-Of-Publication|           Publisher|         Image-URL-S|         Image-URL-M|         Image-URL-L|\n",
      "+-------+--------------------+--------------------+--------------------+--------------------+--------------------+--------------------+--------------------+--------------------+\n",
      "|  count|              271360|              271360|              271359|              271360|              271358|              271360|              271360|              271357|\n",
      "|   mean|1.0412234356977516E9|            Infinity|              2001.0|   1959.754171535147|  3765.6153846153848|             1992.25|              1984.5|             1988.25|\n",
      "| stddev|1.4877142833957233E9|                -NaN|  1.7320508075688772|   258.0194498067871|  7963.0591536808415|   9.863845829363598|  0.7071067811865476|    7.13559154286923|\n",
      "|    min|          0000913154| A Light in the S...| 15th Illinois Vo...|                1961| As Taught at the...| 1865. (Collector...|          Bill Stern|       Our Miss b\"\"\"|\n",
      "|    max|          B0002K6K8O|   Ã?Â?thique en toc|      Ã?Â?ric Holder|and the Final Rid...|      Ã?Â¶bv&amp;hpt|http://images.ama...|http://images.ama...|http://images.ama...|\n",
      "+-------+--------------------+--------------------+--------------------+--------------------+--------------------+--------------------+--------------------+--------------------+\n",
      "\n",
      "Ratings dataset statistics:\n",
      "+-------+------------------+-----------+------------------+\n",
      "|summary|           User-ID|       ISBN|       Book-Rating|\n",
      "+-------+------------------+-----------+------------------+\n",
      "|  count|           1149780|    1149780|           1149780|\n",
      "|   mean|140386.39512602412|   Infinity|2.8669501991685364|\n",
      "| stddev| 80562.27771851212|       -NaN|3.8541838592016546|\n",
      "|    min|                 2| 0330299891|                 0|\n",
      "|    max|            278854|  Ô½crosoft|                10|\n",
      "+-------+------------------+-----------+------------------+\n",
      "\n",
      "Users dataset statistics:\n",
      "+-------+-----------------+------------------+------------------+\n",
      "|summary|          User-ID|          Location|               Age|\n",
      "+-------+-----------------+------------------+------------------+\n",
      "|  count|           278858|            278859|            168341|\n",
      "|   mean|         139429.5|              NULL|34.751833915812824|\n",
      "| stddev|80499.51502027822|              NULL| 14.43101026844749|\n",
      "|    min|                1|             milan| \\\"\"alexandria\\\"\".|\n",
      "|    max|           278858|ýzmýr, n/a, turkey|              99.0|\n",
      "+-------+-----------------+------------------+------------------+\n",
      "\n"
     ]
    }
   ],
   "source": [
    "# Display basic statistics for the Books dataset\n",
    "print(\"Books dataset statistics:\")\n",
    "books_df.describe().show()\n",
    "\n",
    "# Display basic statistics for the Ratings dataset\n",
    "print(\"Ratings dataset statistics:\")\n",
    "ratings_df.describe().show()\n",
    "\n",
    "# Display basic statistics for the Users dataset\n",
    "print(\"Users dataset statistics:\")\n",
    "users_df.describe().show()\n"
   ]
  },
  {
   "cell_type": "markdown",
   "metadata": {
    "application/vnd.databricks.v1+cell": {
     "cellMetadata": {},
     "inputWidgets": {},
     "nuid": "eb490865-e195-4616-bcbf-8780b32a043a",
     "showTitle": false,
     "title": ""
    }
   },
   "source": [
    "## 2. Missing Values\n"
   ]
  },
  {
   "cell_type": "code",
   "execution_count": null,
   "metadata": {
    "application/vnd.databricks.v1+cell": {
     "cellMetadata": {
      "byteLimit": 2048000,
      "rowLimit": 10000
     },
     "inputWidgets": {},
     "nuid": "bd46dfe5-172c-4d62-9ce1-b9dcfc4ed1cb",
     "showTitle": false,
     "title": ""
    }
   },
   "outputs": [
    {
     "name": "stdout",
     "output_type": "stream",
     "text": [
      "Missing values in Books dataset:\n",
      "+----+----------+-----------+-------------------+---------+-----------+-----------+-----------+\n",
      "|ISBN|Book-Title|Book-Author|Year-Of-Publication|Publisher|Image-URL-S|Image-URL-M|Image-URL-L|\n",
      "+----+----------+-----------+-------------------+---------+-----------+-----------+-----------+\n",
      "|   0|         0|          1|                  0|        2|          0|          0|          3|\n",
      "+----+----------+-----------+-------------------+---------+-----------+-----------+-----------+\n",
      "\n",
      "Missing values in Ratings dataset:\n",
      "+-------+----+-----------+\n",
      "|User-ID|ISBN|Book-Rating|\n",
      "+-------+----+-----------+\n",
      "|      0|   0|          0|\n",
      "+-------+----+-----------+\n",
      "\n",
      "Missing values in Users dataset:\n",
      "+-------+--------+------+\n",
      "|User-ID|Location|   Age|\n",
      "+-------+--------+------+\n",
      "|      1|       0|110518|\n",
      "+-------+--------+------+\n",
      "\n"
     ]
    }
   ],
   "source": [
    "# Calculate missing values in each column of the Books dataset\n",
    "print(\"Missing values in Books dataset:\")\n",
    "books_df.select([count(when(isnull(c), c)).alias(c) for c in books_df.columns]).show()\n",
    "\n",
    "# Calculate missing values in each column of the Ratings dataset\n",
    "print(\"Missing values in Ratings dataset:\")\n",
    "ratings_df.select([count(when(isnull(c), c)).alias(c) for c in ratings_df.columns]).show()\n",
    "\n",
    "# Calculate missing values in each column of the Users dataset\n",
    "print(\"Missing values in Users dataset:\")\n",
    "users_df.select([count(when(isnull(c), c)).alias(c) for c in users_df.columns]).show()"
   ]
  },
  {
   "cell_type": "markdown",
   "metadata": {
    "application/vnd.databricks.v1+cell": {
     "cellMetadata": {},
     "inputWidgets": {},
     "nuid": "fe62d3fd-1a2a-4a4b-8405-131a98153612",
     "showTitle": false,
     "title": ""
    }
   },
   "source": [
    "### 2.1. Handling Missing Values in Books Dataset\n"
   ]
  },
  {
   "cell_type": "code",
   "execution_count": null,
   "metadata": {
    "application/vnd.databricks.v1+cell": {
     "cellMetadata": {
      "byteLimit": 2048000,
      "rowLimit": 10000
     },
     "inputWidgets": {},
     "nuid": "a413b7da-8033-4146-a2a2-514e071c118b",
     "showTitle": false,
     "title": ""
    }
   },
   "outputs": [
    {
     "name": "stdout",
     "output_type": "stream",
     "text": [
      "Handled missing values in Books dataset.\n"
     ]
    }
   ],
   "source": [
    "# Removing rows with missing ISBNs, Book-Title, Book-Author, or Publisher\n",
    "books_df = books_df.dropna(subset=[\"ISBN\", \"Book-Title\", \"Book-Author\", \"Publisher\"])\n",
    "\n",
    "# Fill missing Year-Of-Publication with a placeholder value such as -1\n",
    "books_df = books_df.fillna({\"Year-Of-Publication\": -1})\n",
    "\n",
    "# Fill missing image URLs with a default URL or leave them as is\n",
    "# Example: books_df = books_df.fillna({\"Image-URL-S\": \"default_url\", \"Image-URL-M\": \"default_url\", \"Image-URL-L\": \"default_url\"})\n",
    "\n",
    "print(\"Handled missing values in Books dataset.\")\n"
   ]
  },
  {
   "cell_type": "markdown",
   "metadata": {
    "application/vnd.databricks.v1+cell": {
     "cellMetadata": {},
     "inputWidgets": {},
     "nuid": "d5f815af-0125-4f02-ae76-ce6d8d743611",
     "showTitle": false,
     "title": ""
    }
   },
   "source": [
    "### 2.2. Handling Missing Values in Ratings Dataset\n"
   ]
  },
  {
   "cell_type": "code",
   "execution_count": null,
   "metadata": {
    "application/vnd.databricks.v1+cell": {
     "cellMetadata": {
      "byteLimit": 2048000,
      "rowLimit": 10000
     },
     "inputWidgets": {},
     "nuid": "325cd675-ace8-4512-b1f0-3752347ea93d",
     "showTitle": false,
     "title": ""
    }
   },
   "outputs": [
    {
     "name": "stdout",
     "output_type": "stream",
     "text": [
      "Handled missing values in Ratings dataset.\n"
     ]
    }
   ],
   "source": [
    "# Removing rows with missing User-ID, ISBN, or Book-Rating\n",
    "ratings_df = ratings_df.dropna(subset=[\"User-ID\", \"ISBN\", \"Book-Rating\"])\n",
    "\n",
    "print(\"Handled missing values in Ratings dataset.\")\n"
   ]
  },
  {
   "cell_type": "markdown",
   "metadata": {
    "application/vnd.databricks.v1+cell": {
     "cellMetadata": {},
     "inputWidgets": {},
     "nuid": "b818ae2e-cd87-43f1-984d-5d4c400c40e1",
     "showTitle": false,
     "title": ""
    }
   },
   "source": [
    "### 2.3. Handling Missing Values in Users Dataset\n"
   ]
  },
  {
   "cell_type": "code",
   "execution_count": null,
   "metadata": {
    "application/vnd.databricks.v1+cell": {
     "cellMetadata": {
      "byteLimit": 2048000,
      "rowLimit": 10000
     },
     "inputWidgets": {},
     "nuid": "4bae6e1f-5dff-4a76-996d-f843062f1aaf",
     "showTitle": false,
     "title": ""
    }
   },
   "outputs": [
    {
     "name": "stdout",
     "output_type": "stream",
     "text": [
      "Handled missing values in Users dataset.\n"
     ]
    }
   ],
   "source": [
    "# Removing rows with missing User-ID\n",
    "users_df = users_df.dropna(subset=[\"User-ID\"])\n",
    "\n",
    "# Replace missing location with a placeholder value, such as \"Unknown\"\n",
    "users_df = users_df.fillna({\"Location\": \"Unknown\"})\n",
    "\n",
    "# Replace missing Age with the mean age (you can also use median)\n",
    "mean_age = users_df.select(F.mean(\"Age\")).first()[0]\n",
    "users_df = users_df.fillna({\"Age\": mean_age})\n",
    "\n",
    "print(\"Handled missing values in Users dataset.\")\n"
   ]
  },
  {
   "cell_type": "code",
   "execution_count": null,
   "metadata": {
    "application/vnd.databricks.v1+cell": {
     "cellMetadata": {
      "byteLimit": 2048000,
      "rowLimit": 10000
     },
     "inputWidgets": {},
     "nuid": "70fae233-79e7-4b55-8dc9-fa6be2d86100",
     "showTitle": false,
     "title": ""
    }
   },
   "outputs": [
    {
     "name": "stdout",
     "output_type": "stream",
     "text": [
      "Missing values in Books dataset:\n",
      "+----+----------+-----------+-------------------+---------+-----------+-----------+-----------+\n",
      "|ISBN|Book-Title|Book-Author|Year-Of-Publication|Publisher|Image-URL-S|Image-URL-M|Image-URL-L|\n",
      "+----+----------+-----------+-------------------+---------+-----------+-----------+-----------+\n",
      "|   0|         0|          0|                  0|        0|          0|          0|          3|\n",
      "+----+----------+-----------+-------------------+---------+-----------+-----------+-----------+\n",
      "\n",
      "Missing values in Ratings dataset:\n",
      "+-------+----+-----------+\n",
      "|User-ID|ISBN|Book-Rating|\n",
      "+-------+----+-----------+\n",
      "|      0|   0|          0|\n",
      "+-------+----+-----------+\n",
      "\n",
      "Missing values in Users dataset:\n",
      "+-------+--------+---+\n",
      "|User-ID|Location|Age|\n",
      "+-------+--------+---+\n",
      "|      0|       0|  0|\n",
      "+-------+--------+---+\n",
      "\n"
     ]
    }
   ],
   "source": [
    "# Calculate missing values in each column of the Books dataset\n",
    "print(\"Missing values in Books dataset:\")\n",
    "books_df.select([count(when(isnull(c), c)).alias(c) for c in books_df.columns]).show()\n",
    "\n",
    "# Calculate missing values in each column of the Ratings dataset\n",
    "print(\"Missing values in Ratings dataset:\")\n",
    "ratings_df.select([count(when(isnull(c), c)).alias(c) for c in ratings_df.columns]).show()\n",
    "\n",
    "# Calculate missing values in each column of the Users dataset\n",
    "print(\"Missing values in Users dataset:\")\n",
    "users_df.select([count(when(isnull(c), c)).alias(c) for c in users_df.columns]).show()\n",
    "\n"
   ]
  },
  {
   "cell_type": "markdown",
   "metadata": {
    "application/vnd.databricks.v1+cell": {
     "cellMetadata": {},
     "inputWidgets": {},
     "nuid": "633fcd94-88b4-4fab-b648-b49f1f7411f5",
     "showTitle": false,
     "title": ""
    }
   },
   "source": [
    "## 3. Dataset Sizes\n"
   ]
  },
  {
   "cell_type": "code",
   "execution_count": null,
   "metadata": {
    "application/vnd.databricks.v1+cell": {
     "cellMetadata": {
      "byteLimit": 2048000,
      "rowLimit": 10000
     },
     "inputWidgets": {},
     "nuid": "9445a3d4-ffb9-43f2-9967-df41a01c9bb0",
     "showTitle": false,
     "title": ""
    }
   },
   "outputs": [
    {
     "name": "stdout",
     "output_type": "stream",
     "text": [
      "Books dataset size:\n",
      "(271357, 8)\n",
      "Ratings dataset size:\n",
      "(1149780, 3)\n",
      "(278858, 3)\n"
     ]
    }
   ],
   "source": [
    "# Calculate the number of rows and columns in the Books dataset\n",
    "print(\"Books dataset size:\")\n",
    "print((books_df.count(), len(books_df.columns)))\n",
    "\n",
    "# Calculate the number of rows and columns in the Ratings dataset\n",
    "print(\"Ratings dataset size:\")\n",
    "print((ratings_df.count(), len(ratings_df.columns)))\n",
    "\n",
    "# Calculate the number of rows and columns in the Users dataset\n",
    "print((users_df.count(), len(users_df.columns)))"
   ]
  },
  {
   "cell_type": "markdown",
   "metadata": {
    "application/vnd.databricks.v1+cell": {
     "cellMetadata": {},
     "inputWidgets": {},
     "nuid": "bc91514c-2f3b-4d8c-a7f8-e9713a975a0a",
     "showTitle": false,
     "title": ""
    }
   },
   "source": [
    "## 4. Books Data Analysis\n"
   ]
  },
  {
   "cell_type": "code",
   "execution_count": null,
   "metadata": {
    "application/vnd.databricks.v1+cell": {
     "cellMetadata": {
      "byteLimit": 2048000,
      "rowLimit": 10000
     },
     "inputWidgets": {},
     "nuid": "20673135-cdcc-4418-ad87-55afd0ea68c0",
     "showTitle": false,
     "title": ""
    }
   },
   "outputs": [
    {
     "name": "stdout",
     "output_type": "stream",
     "text": [
      "Year-Of-Publication distribution:\n",
      "+--------------------+-----+\n",
      "| Year-Of-Publication|count|\n",
      "+--------------------+-----+\n",
      "|                1961|    1|\n",
      "|              D.S.O.|    1|\n",
      "| Internet (La cou...|    1|\n",
      "|          Mary Noble|    1|\n",
      "|    Relationships\"\"\"|    1|\n",
      "| Slimmer--And How...|    1|\n",
      "| \\\"\"The School fo...|    1|\n",
      "| acht unpaginiert...|    1|\n",
      "| and Anti-Environ...|    1|\n",
      "| and Box-Office M...|    1|\n",
      "| and Murder (St. ...|    1|\n",
      "| and Musicians at...|    1|\n",
      "|           and River|    1|\n",
      "|         and Text\"\"\"|    1|\n",
      "| and \\\"\"I\\\"\" Is f...|    1|\n",
      "| and tasty! : com...|    1|\n",
      "| samtaler med PÃ¤...|    1|\n",
      "|\"Del \\Irish\"\" Mea...|    1|\n",
      "|                   0| 4618|\n",
      "|                1376|    1|\n",
      "+--------------------+-----+\n",
      "only showing top 20 rows\n",
      "\n",
      "Top Publishers:\n",
      "+--------------------+-----+\n",
      "|           Publisher|count|\n",
      "+--------------------+-----+\n",
      "|           Harlequin| 7533|\n",
      "|          Silhouette| 4220|\n",
      "|              Pocket| 3905|\n",
      "|    Ballantine Books| 3782|\n",
      "|        Bantam Books| 3645|\n",
      "|          Scholastic| 3159|\n",
      "|Simon &amp; Schuster| 2969|\n",
      "|       Penguin Books| 2843|\n",
      "|Berkley Publishin...| 2771|\n",
      "|        Warner Books| 2727|\n",
      "+--------------------+-----+\n",
      "only showing top 10 rows\n",
      "\n",
      "Length of book titles:\n",
      "+-------+-----------------+\n",
      "|summary|     title_length|\n",
      "+-------+-----------------+\n",
      "|  count|           271357|\n",
      "|   mean|37.83079485695965|\n",
      "| stddev|25.20519001312427|\n",
      "|    min|                1|\n",
      "|    max|              259|\n",
      "+-------+-----------------+\n",
      "\n"
     ]
    }
   ],
   "source": [
    "# Analyze the distribution of Year-Of-Publication\n",
    "print(\"Year-Of-Publication distribution:\")\n",
    "books_df.groupBy(\"Year-Of-Publication\").count().orderBy(\"Year-Of-Publication\").show()\n",
    "\n",
    "# Identify the top publishers based on the number of books published\n",
    "print(\"Top Publishers:\")\n",
    "books_df.groupBy(\"Publisher\").count().orderBy(desc(\"count\")).show(10)\n",
    "\n",
    "# Analyze the length of book titles and summarize the statistics\n",
    "print(\"Length of book titles:\")\n",
    "books_df.withColumn(\"title_length\", F.length(col(\"Book-Title\"))).describe(\"title_length\").show()\n",
    "\n"
   ]
  },
  {
   "cell_type": "markdown",
   "metadata": {
    "application/vnd.databricks.v1+cell": {
     "cellMetadata": {},
     "inputWidgets": {},
     "nuid": "3197ec98-5c62-4e17-8a4e-0a5b68121f3e",
     "showTitle": false,
     "title": ""
    }
   },
   "source": [
    "### 4.1 Year-Of-Publication Data Cleaning and Type Conversion\n"
   ]
  },
  {
   "cell_type": "code",
   "execution_count": null,
   "metadata": {
    "application/vnd.databricks.v1+cell": {
     "cellMetadata": {
      "byteLimit": 2048000,
      "rowLimit": 10000
     },
     "inputWidgets": {},
     "nuid": "dbf24c86-d5c9-441c-8f48-274b72356483",
     "showTitle": false,
     "title": ""
    }
   },
   "outputs": [
    {
     "name": "stdout",
     "output_type": "stream",
     "text": [
      "Cleaned and converted Year-Of-Publication to integer in Books dataset\n"
     ]
    }
   ],
   "source": [
    "# Clean and convert Year-Of-Publication in Books dataset to integer\n",
    "def clean_year_of_publication(df):\n",
    "    df = df.filter((df[\"Year-Of-Publication\"].cast(\"int\").isNotNull()) & \n",
    "                   (df[\"Year-Of-Publication\"].cast(\"int\") >= 1800) & \n",
    "                   (df[\"Year-Of-Publication\"].cast(\"int\") <= 2023))\n",
    "    return df.withColumn(\"Year-Of-Publication\", df[\"Year-Of-Publication\"].cast(\"int\"))\n",
    "\n",
    "books_df = clean_year_of_publication(books_df)\n",
    "print(\"Cleaned and converted Year-Of-Publication to integer in Books dataset\")\n"
   ]
  },
  {
   "cell_type": "code",
   "execution_count": null,
   "metadata": {
    "application/vnd.databricks.v1+cell": {
     "cellMetadata": {
      "byteLimit": 2048000,
      "rowLimit": 10000
     },
     "inputWidgets": {},
     "nuid": "ec62edc6-904d-4a7d-a222-b5339ce15318",
     "showTitle": false,
     "title": ""
    }
   },
   "outputs": [
    {
     "name": "stdout",
     "output_type": "stream",
     "text": [
      "Year-Of-Publication distribution:\n",
      "+-------------------+-----+\n",
      "|Year-Of-Publication|count|\n",
      "+-------------------+-----+\n",
      "|               1806|    1|\n",
      "|               1897|    1|\n",
      "|               1900|    3|\n",
      "|               1901|    7|\n",
      "|               1902|    2|\n",
      "|               1904|    1|\n",
      "|               1906|    1|\n",
      "|               1908|    1|\n",
      "|               1909|    2|\n",
      "|               1910|    1|\n",
      "|               1911|   19|\n",
      "|               1914|    1|\n",
      "|               1917|    1|\n",
      "|               1919|    1|\n",
      "|               1920|   33|\n",
      "|               1921|    2|\n",
      "|               1922|    2|\n",
      "|               1923|   11|\n",
      "|               1924|    2|\n",
      "|               1925|    2|\n",
      "+-------------------+-----+\n",
      "only showing top 20 rows\n",
      "\n"
     ]
    }
   ],
   "source": [
    "# Analyze the distribution of Year-Of-Publication\n",
    "print(\"Year-Of-Publication distribution:\")\n",
    "books_df.groupBy(\"Year-Of-Publication\").count().orderBy(\"Year-Of-Publication\").show()"
   ]
  },
  {
   "cell_type": "markdown",
   "metadata": {
    "application/vnd.databricks.v1+cell": {
     "cellMetadata": {},
     "inputWidgets": {},
     "nuid": "1fb8af25-393e-46b0-86a9-fc870989b9c6",
     "showTitle": false,
     "title": ""
    }
   },
   "source": [
    "### 4.2. Duplicate entries in the Books"
   ]
  },
  {
   "cell_type": "code",
   "execution_count": null,
   "metadata": {
    "application/vnd.databricks.v1+cell": {
     "cellMetadata": {
      "byteLimit": 2048000,
      "rowLimit": 10000
     },
     "inputWidgets": {},
     "nuid": "48691a29-83fc-4e0b-966e-5777b7b086c8",
     "showTitle": false,
     "title": ""
    }
   },
   "outputs": [
    {
     "name": "stdout",
     "output_type": "stream",
     "text": [
      "Checking for duplicate entries in Books dataset:\n",
      "Number of duplicate entries in Books dataset: 0\n"
     ]
    }
   ],
   "source": [
    "# Check for duplicate entries in the Books dataset\n",
    "print(\"Checking for duplicate entries in Books dataset:\")\n",
    "duplicates = books_df.groupBy(\"ISBN\").count().filter(col(\"count\") > 1)\n",
    "print(f\"Number of duplicate entries in Books dataset: {duplicates.count()}\")\n",
    "\n"
   ]
  },
  {
   "cell_type": "markdown",
   "metadata": {
    "application/vnd.databricks.v1+cell": {
     "cellMetadata": {},
     "inputWidgets": {},
     "nuid": "c3e18b14-26ac-4293-9145-c2bb3771046a",
     "showTitle": false,
     "title": ""
    }
   },
   "source": [
    "## 5. Book Ratings Data Analysis\n"
   ]
  },
  {
   "cell_type": "code",
   "execution_count": null,
   "metadata": {
    "application/vnd.databricks.v1+cell": {
     "cellMetadata": {
      "byteLimit": 2048000,
      "rowLimit": 10000
     },
     "inputWidgets": {},
     "nuid": "d9874bc0-e491-4b8e-a5f3-6329bdca7229",
     "showTitle": false,
     "title": ""
    }
   },
   "outputs": [
    {
     "name": "stdout",
     "output_type": "stream",
     "text": [
      "Ratings distribution:\n",
      "+-----------+------+\n",
      "|Book-Rating| count|\n",
      "+-----------+------+\n",
      "|          0|716109|\n",
      "|          1|  1770|\n",
      "|          2|  2759|\n",
      "|          3|  5996|\n",
      "|          4|  8904|\n",
      "|          5| 50974|\n",
      "|          6| 36924|\n",
      "|          7| 76457|\n",
      "|          8|103736|\n",
      "|          9| 67541|\n",
      "|         10| 78610|\n",
      "+-----------+------+\n",
      "\n",
      "Top rated books by average rating:\n",
      "+----------+--------------+\n",
      "|      ISBN|average_rating|\n",
      "+----------+--------------+\n",
      "|0690041535|          10.0|\n",
      "|067088782X|          10.0|\n",
      "|0425105156|          10.0|\n",
      "|0525938508|          10.0|\n",
      "|0945367198|          10.0|\n",
      "|0859051595|          10.0|\n",
      "|0394731271|          10.0|\n",
      "|1886411999|          10.0|\n",
      "|080482052X|          10.0|\n",
      "|9707100567|          10.0|\n",
      "+----------+--------------+\n",
      "only showing top 10 rows\n",
      "\n",
      "User rating activity:\n",
      "+-------+-----+\n",
      "|User-ID|count|\n",
      "+-------+-----+\n",
      "|  11676|13602|\n",
      "| 198711| 7550|\n",
      "| 153662| 6109|\n",
      "|  98391| 5891|\n",
      "|  35859| 5850|\n",
      "| 212898| 4785|\n",
      "| 278418| 4533|\n",
      "|  76352| 3367|\n",
      "| 110973| 3100|\n",
      "| 235105| 3067|\n",
      "+-------+-----+\n",
      "only showing top 10 rows\n",
      "\n"
     ]
    }
   ],
   "source": [
    "# Analyze the distribution of ratings\n",
    "print(\"Ratings distribution:\")\n",
    "ratings_df.groupBy(\"Book-Rating\").count().orderBy(\"Book-Rating\").show()\n",
    "\n",
    "# Identify the top-rated books by average rating\n",
    "print(\"Top rated books by average rating:\")\n",
    "ratings_df.groupBy(\"ISBN\").agg(mean(\"Book-Rating\").alias(\"average_rating\")).orderBy(desc(\"average_rating\")).show(10)\n",
    "\n",
    "# Examine user rating activity by counting ratings per user\n",
    "print(\"User rating activity:\")\n",
    "ratings_df.groupBy(\"User-ID\").count().orderBy(desc(\"count\")).show(10)\n"
   ]
  },
  {
   "cell_type": "markdown",
   "metadata": {
    "application/vnd.databricks.v1+cell": {
     "cellMetadata": {},
     "inputWidgets": {},
     "nuid": "df137d0b-0965-45bb-83d3-b0b6b93635a0",
     "showTitle": false,
     "title": ""
    }
   },
   "source": [
    "## 6. Users Data Analysis\n"
   ]
  },
  {
   "cell_type": "code",
   "execution_count": null,
   "metadata": {
    "application/vnd.databricks.v1+cell": {
     "cellMetadata": {
      "byteLimit": 2048000,
      "rowLimit": 10000
     },
     "inputWidgets": {},
     "nuid": "ca1a08dc-af9f-431c-947d-070058f62fbe",
     "showTitle": false,
     "title": ""
    }
   },
   "outputs": [
    {
     "name": "stdout",
     "output_type": "stream",
     "text": [
      "User age distribution:\n",
      "+------------------+-----+\n",
      "|               Age|count|\n",
      "+------------------+-----+\n",
      "| \\\"\"alexandria\\\"\".|    1|\n",
      "|         \\\"\"n/a\\\"\"|    3|\n",
      "|      \\\"\"n/a\\\"\"\"\"\"|    1|\n",
      "|        andorra\"\"\"|    2|\n",
      "|      argentina\"\"\"|    5|\n",
      "|            athens|    1|\n",
      "|      australia\"\"\"|    1|\n",
      "|        austria\"\"\"|   13|\n",
      "|     bangladesh\"\"\"|    5|\n",
      "|        belgium\"\"\"|    4|\n",
      "|         brazil\"\"\"|    7|\n",
      "|          burma\"\"\"|    1|\n",
      "|     cape verde\"\"\"|    2|\n",
      "|          chile\"\"\"|    5|\n",
      "|          china\"\"\"|    2|\n",
      "|       colombia\"\"\"|    3|\n",
      "|     costa rica\"\"\"|    2|\n",
      "|  cote d`ivoire\"\"\"|    1|\n",
      "|        croatia\"\"\"|    5|\n",
      "| czech republic\"\"\"|    3|\n",
      "+------------------+-----+\n",
      "only showing top 20 rows\n",
      "\n",
      "User location distribution:\n",
      "+--------------------+-----+\n",
      "|            Location|count|\n",
      "+--------------------+-----+\n",
      "|london, england, ...| 2506|\n",
      "|toronto, ontario,...| 2250|\n",
      "|sydney, new south...| 1744|\n",
      "|melbourne, victor...| 1708|\n",
      "|portland, oregon,...| 1629|\n",
      "|chicago, illinois...| 1526|\n",
      "|seattle, washingt...| 1484|\n",
      "|new york, new yor...| 1411|\n",
      "|madrid, madrid, s...| 1400|\n",
      "|vancouver, britis...| 1359|\n",
      "+--------------------+-----+\n",
      "only showing top 10 rows\n",
      "\n",
      "Users with missing age:\n",
      "+-------+--------+---+\n",
      "|User-ID|Location|Age|\n",
      "+-------+--------+---+\n",
      "+-------+--------+---+\n",
      "\n"
     ]
    }
   ],
   "source": [
    "# Analyze the distribution of user ages\n",
    "print(\"User age distribution:\")\n",
    "users_df.groupBy(\"Age\").count().orderBy(\"Age\").show()\n",
    "\n",
    "# Analyze the geographic distribution of users by location\n",
    "print(\"User location distribution:\")\n",
    "users_df.groupBy(\"Location\").count().orderBy(desc(\"count\")).show(10)\n",
    "\n",
    "# Identify users with missing age values\n",
    "print(\"Users with missing age:\")\n",
    "users_df.filter(users_df.Age.isNull()).show()\n",
    "\n"
   ]
  },
  {
   "cell_type": "markdown",
   "metadata": {
    "application/vnd.databricks.v1+cell": {
     "cellMetadata": {},
     "inputWidgets": {},
     "nuid": "485683cc-48b5-4236-85db-7ac07a7b46b1",
     "showTitle": false,
     "title": ""
    }
   },
   "source": [
    "### 6.1 Age Data Cleaning and Type Conversion\n"
   ]
  },
  {
   "cell_type": "code",
   "execution_count": null,
   "metadata": {
    "application/vnd.databricks.v1+cell": {
     "cellMetadata": {
      "byteLimit": 2048000,
      "rowLimit": 10000
     },
     "inputWidgets": {},
     "nuid": "b8d9cacd-aa9a-49b2-b700-b6b199295be9",
     "showTitle": false,
     "title": ""
    }
   },
   "outputs": [
    {
     "name": "stdout",
     "output_type": "stream",
     "text": [
      "Cleaned and converted Age to integer in Users dataset\n"
     ]
    }
   ],
   "source": [
    "# Clean and convert Age in Users dataset to integer\n",
    "def clean_age(df):\n",
    "    # Filter out records with invalid age values (e.g., strings or ages outside a reasonable range)\n",
    "    df = df.filter((df[\"Age\"].cast(\"int\").isNotNull()) & \n",
    "                   (df[\"Age\"].cast(\"int\") >= 5) & \n",
    "                   (df[\"Age\"].cast(\"int\") <= 120))\n",
    "    # Convert the column to integer type\n",
    "    return df.withColumn(\"Age\", df[\"Age\"].cast(\"int\"))\n",
    "\n",
    "users_df = clean_age(users_df)\n",
    "print(\"Cleaned and converted Age to integer in Users dataset\")"
   ]
  },
  {
   "cell_type": "code",
   "execution_count": null,
   "metadata": {
    "application/vnd.databricks.v1+cell": {
     "cellMetadata": {
      "byteLimit": 2048000,
      "rowLimit": 10000
     },
     "inputWidgets": {},
     "nuid": "9ac146dd-4186-41ce-b8c3-b5a6638189bf",
     "showTitle": false,
     "title": ""
    }
   },
   "outputs": [
    {
     "name": "stdout",
     "output_type": "stream",
     "text": [
      "User age distribution:\n",
      "+---+-----+\n",
      "|Age|count|\n",
      "+---+-----+\n",
      "|  5|   26|\n",
      "|  6|   18|\n",
      "|  7|   27|\n",
      "|  8|   54|\n",
      "|  9|   62|\n",
      "| 10|   84|\n",
      "| 11|  121|\n",
      "| 12|  192|\n",
      "| 13|  883|\n",
      "| 14| 1962|\n",
      "| 15| 2379|\n",
      "| 16| 2566|\n",
      "| 17| 3042|\n",
      "| 18| 3690|\n",
      "| 19| 3934|\n",
      "| 20| 4040|\n",
      "| 21| 4428|\n",
      "| 22| 4701|\n",
      "| 23| 5440|\n",
      "| 24| 5666|\n",
      "+---+-----+\n",
      "only showing top 20 rows\n",
      "\n"
     ]
    }
   ],
   "source": [
    "# Analyze the distribution of user ages\n",
    "print(\"User age distribution:\")\n",
    "users_df.groupBy(\"Age\").count().orderBy(\"Age\").show()\n"
   ]
  },
  {
   "cell_type": "code",
   "execution_count": null,
   "metadata": {
    "application/vnd.databricks.v1+cell": {
     "cellMetadata": {},
     "inputWidgets": {},
     "nuid": "ac8d1056-e18c-4021-a5a2-5ceafb85a8bb",
     "showTitle": false,
     "title": ""
    }
   },
   "outputs": [],
   "source": []
  },
  {
   "cell_type": "markdown",
   "metadata": {
    "application/vnd.databricks.v1+cell": {
     "cellMetadata": {},
     "inputWidgets": {},
     "nuid": "fbfb6d29-6da9-4e5f-bedb-1255d283cb89",
     "showTitle": false,
     "title": ""
    }
   },
   "source": [
    "## 7. Join Dataframes\n"
   ]
  },
  {
   "cell_type": "code",
   "execution_count": null,
   "metadata": {
    "application/vnd.databricks.v1+cell": {
     "cellMetadata": {
      "byteLimit": 2048000,
      "rowLimit": 10000
     },
     "inputWidgets": {},
     "nuid": "0130774a-4011-4b88-bfef-2b2fe494baec",
     "showTitle": false,
     "title": ""
    }
   },
   "outputs": [
    {
     "name": "stdout",
     "output_type": "stream",
     "text": [
      "Books dataset statistics and data types:\n",
      "\n",
      "Data types in Books dataset:\n",
      "[('ISBN', 'string'), ('Book-Title', 'string'), ('Book-Author', 'string'), ('Year-Of-Publication', 'int'), ('Publisher', 'string'), ('Image-URL-S', 'string'), ('Image-URL-M', 'string'), ('Image-URL-L', 'string')]\n",
      "\n",
      "Summary statistics for Books dataset:\n",
      "+-------+--------------------+--------------------+--------------------+-------------------+--------------------+--------------------+--------------------+--------------------+\n",
      "|summary|                ISBN|          Book-Title|         Book-Author|Year-Of-Publication|           Publisher|         Image-URL-S|         Image-URL-M|         Image-URL-L|\n",
      "+-------+--------------------+--------------------+--------------------+-------------------+--------------------+--------------------+--------------------+--------------------+\n",
      "|  count|              260198|              260198|              260198|             260198|              260198|              260198|              260198|              260198|\n",
      "|   mean|1.0316991256708765E9|            Infinity|                NULL| 1993.6685831559043|  25032.333333333332|                NULL|                NULL|              1984.0|\n",
      "| stddev| 1.476103576843001E9|                -NaN|                NULL|  8.169436210970286|   21676.03850645531|                NULL|                NULL|                NULL|\n",
      "|    min|          0000913154| Always Have Pops...| 15th Illinois Vo...|               1806| Editions P. Terrail| 1865. (Collector...|       Lucius Barber|                1984|\n",
      "|    max|          B000234NC6|   Ã?Â?thique en toc|      Ã?Â?ric Holder|               2021|      Ã?Â¶bv&amp;hpt|http://images.ama...|http://images.ama...|http://images.ama...|\n",
      "+-------+--------------------+--------------------+--------------------+-------------------+--------------------+--------------------+--------------------+--------------------+\n",
      "\n",
      "\n",
      "Ratings dataset statistics and data types:\n",
      "\n",
      "Data types in Ratings dataset:\n",
      "[('User-ID', 'int'), ('ISBN', 'string'), ('Book-Rating', 'int')]\n",
      "\n",
      "Summary statistics for Ratings dataset:\n",
      "+-------+------------------+-----------+------------------+\n",
      "|summary|           User-ID|       ISBN|       Book-Rating|\n",
      "+-------+------------------+-----------+------------------+\n",
      "|  count|           1149780|    1149780|           1149780|\n",
      "|   mean|140386.39512602412|   Infinity|2.8669501991685364|\n",
      "| stddev| 80562.27771851212|       -NaN|3.8541838592016546|\n",
      "|    min|                 2| 0330299891|                 0|\n",
      "|    max|            278854|  Ô½crosoft|                10|\n",
      "+-------+------------------+-----------+------------------+\n",
      "\n",
      "\n",
      "Users dataset statistics and data types:\n",
      "\n",
      "Data types in Users dataset:\n",
      "[('User-ID', 'int'), ('Location', 'string'), ('Age', 'int')]\n",
      "\n",
      "Summary statistics for Users dataset:\n",
      "+-------+-----------------+--------------------+------------------+\n",
      "|summary|          User-ID|            Location|               Age|\n",
      "+-------+-----------------+--------------------+------------------+\n",
      "|  count|           277233|              277233|            277233|\n",
      "|   mean|139426.0610785873|                NULL| 34.52158653551345|\n",
      "| stddev|80491.24276961957|                NULL|10.808912605417639|\n",
      "|    min|                1|&#19978;&#28023;,...|                 5|\n",
      "|    max|           278858|  ýzmýr, n/a, turkey|               119|\n",
      "+-------+-----------------+--------------------+------------------+\n",
      "\n"
     ]
    }
   ],
   "source": [
    "# Display basic statistics and data types for the Books dataset\n",
    "print(\"Books dataset statistics and data types:\")\n",
    "print(\"\\nData types in Books dataset:\")\n",
    "print(books_df.dtypes)  # Display data types of columns\n",
    "print(\"\\nSummary statistics for Books dataset:\")\n",
    "books_df.describe().show()\n",
    "\n",
    "# Display basic statistics and data types for the Ratings dataset\n",
    "print(\"\\nRatings dataset statistics and data types:\")\n",
    "print(\"\\nData types in Ratings dataset:\")\n",
    "print(ratings_df.dtypes)  # Display data types of columns\n",
    "print(\"\\nSummary statistics for Ratings dataset:\")\n",
    "ratings_df.describe().show()\n",
    "\n",
    "# Display basic statistics and data types for the Users dataset\n",
    "print(\"\\nUsers dataset statistics and data types:\")\n",
    "print(\"\\nData types in Users dataset:\")\n",
    "print(users_df.dtypes)  # Display data types of columns\n",
    "print(\"\\nSummary statistics for Users dataset:\")\n",
    "users_df.describe().show()\n",
    "\n"
   ]
  },
  {
   "cell_type": "code",
   "execution_count": null,
   "metadata": {
    "application/vnd.databricks.v1+cell": {
     "cellMetadata": {
      "byteLimit": 2048000,
      "rowLimit": 10000
     },
     "inputWidgets": {},
     "nuid": "5c5855b7-1033-406f-b913-4bed9a7caeec",
     "showTitle": false,
     "title": ""
    }
   },
   "outputs": [
    {
     "name": "stdout",
     "output_type": "stream",
     "text": [
      "Joined Books and Ratings data:\n",
      "+----------+--------------------+-------------------+-------------------+--------------------+--------------------+--------------------+--------------------+-------+-----------+\n",
      "|      ISBN|          Book-Title|        Book-Author|Year-Of-Publication|           Publisher|         Image-URL-S|         Image-URL-M|         Image-URL-L|User-ID|Book-Rating|\n",
      "+----------+--------------------+-------------------+-------------------+--------------------+--------------------+--------------------+--------------------+-------+-----------+\n",
      "|0671002481|The First Wives C...|   Olivia Goldsmith|               1996|              Pocket|http://images.ama...|http://images.ama...|http://images.ama...| 271593|          0|\n",
      "|0842329129|Left Behind: A No...|         Tim Lahaye|               1996|Tyndale House Pub...|http://images.ama...|http://images.ama...|http://images.ama...| 274634|          0|\n",
      "|3423620005|Sofies Welt. Roma...|    Jostein Gaarder|               1999|                 Dtv|http://images.ama...|http://images.ama...|http://images.ama...| 199827|          0|\n",
      "|0174434642|Othello (3rd Series)|William Shakespeare|               1996|Thomas Nelson Pub...|http://images.ama...|http://images.ama...|http://images.ama...| 250367|          0|\n",
      "|0446606723|           Wild Seed|  Octavia E. Butler|               1999|              Aspect|http://images.ama...|http://images.ama...|http://images.ama...| 268434|          5|\n",
      "+----------+--------------------+-------------------+-------------------+--------------------+--------------------+--------------------+--------------------+-------+-----------+\n",
      "only showing top 5 rows\n",
      "\n",
      "Joined Users and Ratings data:\n",
      "+-------+----------+-----------+--------------------+---+\n",
      "|User-ID|      ISBN|Book-Rating|            Location|Age|\n",
      "+-------+----------+-----------+--------------------+---+\n",
      "| 276725|034545104X|          0|   tyler, texas, usa| 34|\n",
      "| 276726|0155061224|          5|seattle, washingt...| 34|\n",
      "| 276727|0446520802|          0|h, new south wale...| 16|\n",
      "| 276729|052165615X|          3|rijeka, n/a, croatia| 16|\n",
      "| 276729|0521795028|          6|rijeka, n/a, croatia| 16|\n",
      "+-------+----------+-----------+--------------------+---+\n",
      "only showing top 5 rows\n",
      "\n",
      "Complete data join:\n",
      "+-------+----------+--------------------+-------------------+-------------------+--------------------+--------------------+--------------------+--------------------+-----------+--------------------+---+\n",
      "|User-ID|      ISBN|          Book-Title|        Book-Author|Year-Of-Publication|           Publisher|         Image-URL-S|         Image-URL-M|         Image-URL-L|Book-Rating|            Location|Age|\n",
      "+-------+----------+--------------------+-------------------+-------------------+--------------------+--------------------+--------------------+--------------------+-----------+--------------------+---+\n",
      "| 271593|0671002481|The First Wives C...|   Olivia Goldsmith|               1996|              Pocket|http://images.ama...|http://images.ama...|http://images.ama...|          0|warren, pennsylva...| 34|\n",
      "| 274634|0842329129|Left Behind: A No...|         Tim Lahaye|               1996|Tyndale House Pub...|http://images.ama...|http://images.ama...|http://images.ama...|          0|wahiawa, hawaii, usa| 33|\n",
      "| 199827|3423620005|Sofies Welt. Roma...|    Jostein Gaarder|               1999|                 Dtv|http://images.ama...|http://images.ama...|http://images.ama...|          0|bochum, nordrhein...| 34|\n",
      "| 250367|0174434642|Othello (3rd Series)|William Shakespeare|               1996|Thomas Nelson Pub...|http://images.ama...|http://images.ama...|http://images.ama...|          0|denver, colorado,...| 34|\n",
      "| 268434|0446606723|           Wild Seed|  Octavia E. Butler|               1999|              Aspect|http://images.ama...|http://images.ama...|http://images.ama...|          5|raleigh, north ca...| 34|\n",
      "+-------+----------+--------------------+-------------------+-------------------+--------------------+--------------------+--------------------+--------------------+-----------+--------------------+---+\n",
      "only showing top 5 rows\n",
      "\n"
     ]
    }
   ],
   "source": [
    "# Join Books and Ratings data based on ISBN\n",
    "book_ratings_df = books_df.join(ratings_df, on=\"ISBN\", how=\"inner\")\n",
    "print(\"Joined Books and Ratings data:\")\n",
    "book_ratings_df.show(5)\n",
    "\n",
    "# Join Users and Ratings data based on User-ID\n",
    "user_ratings_df = ratings_df.join(users_df, on=\"User-ID\", how=\"inner\")\n",
    "print(\"Joined Users and Ratings data:\")\n",
    "user_ratings_df.show(5)\n",
    "\n",
    "# Combine all three datasets using ISBN and User-ID\n",
    "complete_df = book_ratings_df.join(users_df, on=\"User-ID\", how=\"inner\")\n",
    "print(\"Complete data join:\")\n",
    "complete_df.show(5)\n",
    "\n"
   ]
  },
  {
   "cell_type": "markdown",
   "metadata": {
    "application/vnd.databricks.v1+cell": {
     "cellMetadata": {},
     "inputWidgets": {},
     "nuid": "9a901f07-a9f0-4279-b40e-f2974580b164",
     "showTitle": false,
     "title": ""
    }
   },
   "source": [
    "## 8. Complete Dataset Analysis\n"
   ]
  },
  {
   "cell_type": "code",
   "execution_count": null,
   "metadata": {
    "application/vnd.databricks.v1+cell": {
     "cellMetadata": {
      "byteLimit": 2048000,
      "rowLimit": 10000
     },
     "inputWidgets": {},
     "nuid": "da5dd122-c646-4f93-9245-e8e2acf4c070",
     "showTitle": false,
     "title": ""
    }
   },
   "outputs": [
    {
     "name": "stdout",
     "output_type": "stream",
     "text": [
      "Most popular books based on total number of ratings received:\n",
      "+----------+--------------------+-----+\n",
      "|      ISBN|          Book-Title|count|\n",
      "+----------+--------------------+-----+\n",
      "|0971880107|         Wild Animus| 2496|\n",
      "|0316666343|The Lovely Bones:...| 1290|\n",
      "|0385504209|   The Da Vinci Code|  881|\n",
      "|0060928336|Divine Secrets of...|  730|\n",
      "|0312195516|The Red Tent (Bes...|  723|\n",
      "|044023722X|     A Painted House|  645|\n",
      "|0142001740|The Secret Life o...|  613|\n",
      "|067976402X|Snow Falling on C...|  611|\n",
      "|0671027360| Angels &amp; Demons|  583|\n",
      "|0446672211|Where the Heart I...|  583|\n",
      "+----------+--------------------+-----+\n",
      "only showing top 10 rows\n",
      "\n",
      "Most active users based on number of books rated:\n",
      "+-------+-----+\n",
      "|User-ID|count|\n",
      "+-------+-----+\n",
      "|  11676|10767|\n",
      "| 198711| 6280|\n",
      "|  98391| 5737|\n",
      "| 153662| 5715|\n",
      "|  35859| 5515|\n",
      "| 212898| 4236|\n",
      "| 278418| 3916|\n",
      "|  76352| 3297|\n",
      "| 110973| 2930|\n",
      "| 235105| 2872|\n",
      "+-------+-----+\n",
      "only showing top 10 rows\n",
      "\n",
      "Book ratings by user age:\n",
      "+---+------------------+\n",
      "|Age|        avg_rating|\n",
      "+---+------------------+\n",
      "|  5| 4.874172185430464|\n",
      "|  6| 5.428571428571429|\n",
      "|  7| 3.427536231884058|\n",
      "|  8|3.8378378378378377|\n",
      "|  9|1.1265570503238664|\n",
      "| 10|3.5636363636363635|\n",
      "| 11| 2.809619238476954|\n",
      "| 12| 3.849726775956284|\n",
      "| 13| 3.415973377703827|\n",
      "| 14|3.5835203590894515|\n",
      "| 15|3.7943561466104443|\n",
      "| 16| 4.418669996877927|\n",
      "| 17|3.9259692187804403|\n",
      "| 18|3.2613609606781258|\n",
      "| 19|3.8131997642899234|\n",
      "| 20|  3.54057924888606|\n",
      "| 21| 2.607307810735913|\n",
      "| 22| 3.038445108927809|\n",
      "| 23|2.7156663554994234|\n",
      "| 24|2.7322637948262463|\n",
      "+---+------------------+\n",
      "only showing top 20 rows\n",
      "\n",
      "Book ratings by user location:\n",
      "+--------------------+----------+\n",
      "|            Location|avg_rating|\n",
      "+--------------------+----------+\n",
      "|breaux bridge, lo...|      10.0|\n",
      "|paderno dugnano, ...|      10.0|\n",
      "|14971 deception r...|      10.0|\n",
      "|wels, oberösterre...|      10.0|\n",
      "|  br, louisiana, usa|      10.0|\n",
      "|dublin, georgia, usa|      10.0|\n",
      "|   la verne, ca, usa|      10.0|\n",
      "|maimi lakes, flor...|      10.0|\n",
      "|island lake il., ...|      10.0|\n",
      "|auckland, na, new...|      10.0|\n",
      "+--------------------+----------+\n",
      "only showing top 10 rows\n",
      "\n"
     ]
    }
   ],
   "source": [
    "# Analyze the most popular books based on total number of ratings received\n",
    "print(\"Most popular books based on total number of ratings received:\")\n",
    "complete_df.groupBy(\"ISBN\", \"Book-Title\").count().orderBy(desc(\"count\")).show(10)\n",
    "\n",
    "# Examine the most active users based on the number of books rated\n",
    "print(\"Most active users based on number of books rated:\")\n",
    "complete_df.groupBy(\"User-ID\").count().orderBy(desc(\"count\")).show(10)\n",
    "\n",
    "# Analyze book ratings by user age and location\n",
    "print(\"Book ratings by user age:\")\n",
    "complete_df.groupBy(\"Age\").agg(mean(\"Book-Rating\").alias(\"avg_rating\")).orderBy(\"Age\").show()\n",
    "\n",
    "print(\"Book ratings by user location:\")\n",
    "complete_df.groupBy(\"Location\").agg(mean(\"Book-Rating\").alias(\"avg_rating\")).orderBy(desc(\"avg_rating\")).show(10)\n"
   ]
  },
  {
   "cell_type": "markdown",
   "metadata": {
    "application/vnd.databricks.v1+cell": {
     "cellMetadata": {},
     "inputWidgets": {},
     "nuid": "89c0d76b-4466-4961-87eb-28197b5524e1",
     "showTitle": false,
     "title": ""
    }
   },
   "source": [
    "## 9. Identify Outliers\n"
   ]
  },
  {
   "cell_type": "code",
   "execution_count": null,
   "metadata": {
    "application/vnd.databricks.v1+cell": {
     "cellMetadata": {
      "byteLimit": 2048000,
      "rowLimit": 10000
     },
     "inputWidgets": {},
     "nuid": "da28c255-7dc1-436d-aafa-bd3baecc6f90",
     "showTitle": false,
     "title": ""
    }
   },
   "outputs": [
    {
     "name": "stdout",
     "output_type": "stream",
     "text": [
      "Outliers in User Age:\n",
      "+-------+------------------+\n",
      "|summary|               Age|\n",
      "+-------+------------------+\n",
      "|  count|            998623|\n",
      "|   mean| 36.38432321306439|\n",
      "| stddev|10.879795165259114|\n",
      "|    min|                 5|\n",
      "|    25%|                31|\n",
      "|    50%|                34|\n",
      "|    75%|                41|\n",
      "|    max|               118|\n",
      "+-------+------------------+\n",
      "\n",
      "Outliers in Book Rating:\n",
      "+-------+------------------+\n",
      "|summary|       Book-Rating|\n",
      "+-------+------------------+\n",
      "|  count|            998623|\n",
      "|   mean| 2.828995526840459|\n",
      "| stddev|3.8509516019340495|\n",
      "|    min|                 0|\n",
      "|    25%|                 0|\n",
      "|    50%|                 0|\n",
      "|    75%|                 7|\n",
      "|    max|                10|\n",
      "+-------+------------------+\n",
      "\n"
     ]
    }
   ],
   "source": [
    "# Identify outliers in User Age\n",
    "print(\"Outliers in User Age:\")\n",
    "complete_df.select(\"Age\").summary().show()\n",
    "\n",
    "# Identify outliers in Book Rating\n",
    "print(\"Outliers in Book Rating:\")\n",
    "complete_df.select(\"Book-Rating\").summary().show()\n"
   ]
  },
  {
   "cell_type": "markdown",
   "metadata": {
    "application/vnd.databricks.v1+cell": {
     "cellMetadata": {},
     "inputWidgets": {},
     "nuid": "3041b373-659b-4fd3-b3c8-0b6fc114fcd1",
     "showTitle": false,
     "title": ""
    }
   },
   "source": [
    "## 9. Correlations\n"
   ]
  },
  {
   "cell_type": "code",
   "execution_count": null,
   "metadata": {
    "application/vnd.databricks.v1+cell": {
     "cellMetadata": {
      "byteLimit": 2048000,
      "rowLimit": 10000
     },
     "inputWidgets": {},
     "nuid": "69ce8a9d-4c0f-4239-b643-f7a531f3696c",
     "showTitle": false,
     "title": ""
    }
   },
   "outputs": [
    {
     "name": "stdout",
     "output_type": "stream",
     "text": [
      "Correlation between age and book ratings:\n",
      "Correlation: -0.02305906870046854\n"
     ]
    }
   ],
   "source": [
    "# Compute correlation between age and book ratings\n",
    "print(\"Correlation between age and book ratings:\")\n",
    "correlation = complete_df.select(F.corr(\"Age\", \"Book-Rating\")).collect()[0][0]\n",
    "print(f\"Correlation: {correlation}\")\n",
    "\n"
   ]
  },
  {
   "cell_type": "markdown",
   "metadata": {
    "application/vnd.databricks.v1+cell": {
     "cellMetadata": {},
     "inputWidgets": {},
     "nuid": "a3d4d3f3-01ad-4710-878d-21d2f7431b3e",
     "showTitle": false,
     "title": ""
    }
   },
   "source": [
    "## 10. User Demographics Analysis\n"
   ]
  },
  {
   "cell_type": "code",
   "execution_count": null,
   "metadata": {
    "application/vnd.databricks.v1+cell": {
     "cellMetadata": {
      "byteLimit": 2048000,
      "rowLimit": 10000
     },
     "inputWidgets": {},
     "nuid": "acfcf3a5-e849-48df-817d-a67a9cc3a88a",
     "showTitle": false,
     "title": ""
    }
   },
   "outputs": [
    {
     "name": "stdout",
     "output_type": "stream",
     "text": [
      "Book ratings by age groups:\n",
      "+---------+------------------+\n",
      "|age_group|        avg_rating|\n",
      "+---------+------------------+\n",
      "|        0|1.9568599717114568|\n",
      "|       10| 3.684851832596829|\n",
      "|       20| 2.847220474895935|\n",
      "|       30|2.8221425587096878|\n",
      "|       40|2.7176249798202656|\n",
      "|       50|2.8667217448777262|\n",
      "|       60| 2.349945718550685|\n",
      "|       70| 4.479071288423806|\n",
      "|       80| 3.058321479374111|\n",
      "|       90|2.9529411764705884|\n",
      "|      100| 2.547914317925592|\n",
      "|      110| 1.310880829015544|\n",
      "+---------+------------------+\n",
      "\n"
     ]
    }
   ],
   "source": [
    "# Compare book ratings given by different age groups\n",
    "print(\"Book ratings by age groups:\")\n",
    "\n",
    "# Group ages by decades using floor division\n",
    "age_groups = complete_df.withColumn(\"age_group\", F.floor(col(\"Age\") / 10) * 10)\n",
    "\n",
    "# Calculate the average rating for each age group\n",
    "average_ratings_by_age_group = age_groups.groupBy(\"age_group\").agg(F.mean(\"Book-Rating\").alias(\"avg_rating\")).orderBy(\"age_group\")\n",
    "\n",
    "# Display the results\n",
    "average_ratings_by_age_group.show()\n",
    "\n",
    "# Insight:\n",
    "# Grouping user age into categories (e.g., decades) allows for more meaningful comparisons of book ratings.\n",
    "# This can reveal trends or preferences across different age groups.\n",
    "# Consider using other age groupings (e.g., age bins) depending on the data distribution and specific analysis goals.\n"
   ]
  },
  {
   "cell_type": "markdown",
   "metadata": {
    "application/vnd.databricks.v1+cell": {
     "cellMetadata": {},
     "inputWidgets": {},
     "nuid": "81b6675a-1542-4eb1-a111-9988581d6f79",
     "showTitle": false,
     "title": ""
    }
   },
   "source": [
    "## 11. Publisher Analysis\n"
   ]
  },
  {
   "cell_type": "code",
   "execution_count": null,
   "metadata": {
    "application/vnd.databricks.v1+cell": {
     "cellMetadata": {
      "byteLimit": 2048000,
      "rowLimit": 10000
     },
     "inputWidgets": {},
     "nuid": "62c9cf69-854c-4dd1-9769-3eb35d927ef1",
     "showTitle": false,
     "title": ""
    }
   },
   "outputs": [
    {
     "name": "stdout",
     "output_type": "stream",
     "text": [
      "Publishers with highest average book ratings:\n",
      "+--------------------+----------+\n",
      "|           Publisher|avg_rating|\n",
      "+--------------------+----------+\n",
      "|          I.P.A.C.S.|      10.0|\n",
      "|           D. Spears|      10.0|\n",
      "|Scribes Valley Pu...|      10.0|\n",
      "|Malice Aforethoug...|      10.0|\n",
      "|           Sattre Pr|      10.0|\n",
      "|         Hermetic Pr|      10.0|\n",
      "|Unity School of C...|      10.0|\n",
      "|        Bourget Bros|      10.0|\n",
      "| Memory Makers Books|      10.0|\n",
      "|          Veritas Pr|      10.0|\n",
      "|           Jugglebug|      10.0|\n",
      "|         Veritas Pub|      10.0|\n",
      "|  Wallbuilders Press|      10.0|\n",
      "|    Providence Press|      10.0|\n",
      "| Indigo Publications|      10.0|\n",
      "|         Paper Tiger|      10.0|\n",
      "|Helwig Industries...|      10.0|\n",
      "|Macdonald and Jane's|      10.0|\n",
      "|         Sopris West|      10.0|\n",
      "|Colour Energy Cor...|      10.0|\n",
      "+--------------------+----------+\n",
      "only showing top 20 rows\n",
      "\n"
     ]
    }
   ],
   "source": [
    "# Explore which publishers receive the highest average book ratings\n",
    "print(\"Publishers with highest average book ratings:\")\n",
    "publisher_ratings = complete_df.groupBy(\"Publisher\").agg(mean(\"Book-Rating\").alias(\"avg_rating\"))\n",
    "top_publishers = publisher_ratings.orderBy(desc(\"avg_rating\")).show(20)\n"
   ]
  },
  {
   "cell_type": "markdown",
   "metadata": {
    "application/vnd.databricks.v1+cell": {
     "cellMetadata": {},
     "inputWidgets": {},
     "nuid": "a7ce6133-fbfd-44cd-818d-0bab9688e287",
     "showTitle": false,
     "title": ""
    }
   },
   "source": [
    "## 12. Books with Highest/Lowest Ratings\n"
   ]
  },
  {
   "cell_type": "code",
   "execution_count": null,
   "metadata": {
    "application/vnd.databricks.v1+cell": {
     "cellMetadata": {
      "byteLimit": 2048000,
      "rowLimit": 10000
     },
     "inputWidgets": {},
     "nuid": "735d98d0-0e6d-43b3-9483-accffc663489",
     "showTitle": false,
     "title": ""
    }
   },
   "outputs": [
    {
     "name": "stdout",
     "output_type": "stream",
     "text": [
      "Books with highest average ratings:\n",
      "+----------+--------------------+----------+\n",
      "|      ISBN|          Book-Title|avg_rating|\n",
      "+----------+--------------------+----------+\n",
      "|1886411999|Absolute OpenBSD:...|      10.0|\n",
      "|067088782X|Woman's Day Craft...|      10.0|\n",
      "|0945367198|Freaks, Geeks and...|      10.0|\n",
      "|0425105156|Accent on Desire ...|      10.0|\n",
      "|0859051595|Yammatji: Aborigi...|      10.0|\n",
      "|0525938508|Life on the Color...|      10.0|\n",
      "|0690041535|Yankee Doodle's L...|      10.0|\n",
      "|156987512X|The Town Mouse an...|      10.0|\n",
      "|0394731271|Western Forests (...|      10.0|\n",
      "|080482052X|Blue and White Japan|      10.0|\n",
      "+----------+--------------------+----------+\n",
      "only showing top 10 rows\n",
      "\n",
      "Books with lowest average ratings:\n",
      "+----------+--------------------+----------+\n",
      "|      ISBN|          Book-Title|avg_rating|\n",
      "+----------+--------------------+----------+\n",
      "|0571193307|Aunt Margaret's L...|       0.0|\n",
      "|0373164300|Charity'S Angel (...|       0.0|\n",
      "|0373163177|Of Dreams And Mag...|       0.0|\n",
      "|0307001296|Tweety and Sylves...|       0.0|\n",
      "|0394888103|Play-Along and Co...|       0.0|\n",
      "|0590313088|            Hideaway|       0.0|\n",
      "|0590447769|       New Baby Calf|       0.0|\n",
      "|0769602770|         Tweeted Pan|       0.0|\n",
      "|0394826639|The Comic Book My...|       0.0|\n",
      "|0674373502|Harvard Brief Dic...|       0.0|\n",
      "+----------+--------------------+----------+\n",
      "only showing top 10 rows\n",
      "\n"
     ]
    }
   ],
   "source": [
    "# Identify books with the highest average ratings\n",
    "print(\"Books with highest average ratings:\")\n",
    "complete_df.groupBy(\"ISBN\", \"Book-Title\").agg(mean(\"Book-Rating\").alias(\"avg_rating\")).orderBy(desc(\"avg_rating\")).show(10)\n",
    "\n",
    "# Identify books with the lowest average ratings\n",
    "print(\"Books with lowest average ratings:\")\n",
    "complete_df.groupBy(\"ISBN\", \"Book-Title\").agg(mean(\"Book-Rating\").alias(\"avg_rating\")).orderBy(\"avg_rating\").show(10)\n"
   ]
  },
  {
   "cell_type": "markdown",
   "metadata": {
    "application/vnd.databricks.v1+cell": {
     "cellMetadata": {},
     "inputWidgets": {},
     "nuid": "79c23fbb-ee64-40ed-baee-db215035deab",
     "showTitle": false,
     "title": ""
    }
   },
   "source": [
    "## 13. Unique Values\n"
   ]
  },
  {
   "cell_type": "code",
   "execution_count": null,
   "metadata": {
    "application/vnd.databricks.v1+cell": {
     "cellMetadata": {
      "byteLimit": 2048000,
      "rowLimit": 10000
     },
     "inputWidgets": {},
     "nuid": "4bc27053-ab91-4fc6-84a8-d2d18f3647c3",
     "showTitle": false,
     "title": ""
    }
   },
   "outputs": [
    {
     "name": "stdout",
     "output_type": "stream",
     "text": [
      "Unique ISBN values:\n",
      "260198\n",
      "Unique User-ID values:\n",
      "277233\n"
     ]
    }
   ],
   "source": [
    "# Calculate the number of unique ISBN values in the Books dataset\n",
    "print(\"Unique ISBN values:\")\n",
    "print(books_df.select(\"ISBN\").distinct().count())\n",
    "\n",
    "# Calculate the number of unique User-ID values in the Users dataset\n",
    "print(\"Unique User-ID values:\")\n",
    "print(users_df.select(\"User-ID\").distinct().count())\n"
   ]
  },
  {
   "cell_type": "markdown",
   "metadata": {
    "application/vnd.databricks.v1+cell": {
     "cellMetadata": {},
     "inputWidgets": {},
     "nuid": "be2bbbab-16c7-48c2-9426-9d050dc81ead",
     "showTitle": false,
     "title": ""
    }
   },
   "source": [
    "## 14. Frequent Book-User Pairs\n"
   ]
  },
  {
   "cell_type": "code",
   "execution_count": null,
   "metadata": {
    "application/vnd.databricks.v1+cell": {
     "cellMetadata": {
      "byteLimit": 2048000,
      "rowLimit": 10000
     },
     "inputWidgets": {},
     "nuid": "9c863336-ddfc-48ee-9c6f-559b1cf0b850",
     "showTitle": false,
     "title": ""
    }
   },
   "outputs": [
    {
     "name": "stdout",
     "output_type": "stream",
     "text": [
      "Frequent book-user pairs:\n",
      "+-------+----------+-----+\n",
      "|User-ID|      ISBN|count|\n",
      "+-------+----------+-----+\n",
      "| 277375|3548603203|    1|\n",
      "| 276936|0749317256|    1|\n",
      "| 276733|2080674722|    1|\n",
      "| 276798|3548603203|    1|\n",
      "| 276964|0515131520|    1|\n",
      "| 276798|3499134004|    1|\n",
      "| 277427|0553574566|    1|\n",
      "| 277427|0425087859|    1|\n",
      "| 277157|0441005470|    1|\n",
      "| 276904|0738205737|    1|\n",
      "+-------+----------+-----+\n",
      "only showing top 10 rows\n",
      "\n"
     ]
    }
   ],
   "source": [
    "# Analyze which books and users appear together most frequently\n",
    "print(\"Frequent book-user pairs:\")\n",
    "# Group by 'User-ID' and 'ISBN' to find the frequency of each book-user pair\n",
    "frequent_pairs = complete_df.groupBy(\"User-ID\", \"ISBN\").count()\n",
    "\n",
    "# Order the pairs in ascending order of count\n",
    "frequent_pairs.orderBy(\"count\").show(10)\n"
   ]
  },
  {
   "cell_type": "markdown",
   "metadata": {
    "application/vnd.databricks.v1+cell": {
     "cellMetadata": {},
     "inputWidgets": {},
     "nuid": "2de6e586-ffe1-45fa-8e8a-d9e206a4653d",
     "showTitle": false,
     "title": ""
    }
   },
   "source": [
    "## 15. Recommendations\n"
   ]
  },
  {
   "cell_type": "markdown",
   "metadata": {
    "application/vnd.databricks.v1+cell": {
     "cellMetadata": {},
     "inputWidgets": {},
     "nuid": "1600ce8b-2cfe-4e42-a448-095445d43f3f",
     "showTitle": false,
     "title": ""
    }
   },
   "source": [
    "### 15.1 Based on user age and book ratings:"
   ]
  },
  {
   "cell_type": "code",
   "execution_count": null,
   "metadata": {
    "application/vnd.databricks.v1+cell": {
     "cellMetadata": {
      "byteLimit": 2048000,
      "rowLimit": 10000
     },
     "inputWidgets": {},
     "nuid": "faf04042-7953-484c-a433-08ac767df0c0",
     "showTitle": false,
     "title": ""
    }
   },
   "outputs": [
    {
     "data": {
      "text/plain": [
       "Enter the user ID for recommendations:  123"
      ]
     },
     "metadata": {},
     "output_type": "display_data"
    },
    {
     "name": "stdout",
     "output_type": "stream",
     "text": [
      "Top recommendation candidates for User ID 123 (Age Group: 20s):\n",
      "+----------+--------------------+----------+\n",
      "|      ISBN|          Book-Title|avg_rating|\n",
      "+----------+--------------------+----------+\n",
      "|1556615728|The Moon by Night...|      10.0|\n",
      "|0094770506|Darwin in 90 Minu...|      10.0|\n",
      "|0848716280|Good things: The ...|      10.0|\n",
      "|0192839071|The Meditations o...|      10.0|\n",
      "|0140367489|The Lost World (P...|      10.0|\n",
      "|0140437509|Three Men in a Bo...|      10.0|\n",
      "|0471963518|Understanding Fos...|      10.0|\n",
      "|0553298097|       A Time to Die|      10.0|\n",
      "|0452275334|Life on the Color...|      10.0|\n",
      "|0060962348|Courage to Heal: ...|      10.0|\n",
      "+----------+--------------------+----------+\n",
      "only showing top 10 rows\n",
      "\n"
     ]
    }
   ],
   "source": [
    "\n",
    "# Ask for user ID input to recommend books\n",
    "user_id = int(input(\"Enter the user ID for recommendations: \"))\n",
    "\n",
    "# Get the user's age from the Users dataset\n",
    "user_age_row = users_df.filter(users_df[\"User-ID\"] == user_id).select(\"Age\").collect()\n",
    "\n",
    "# Check if the user was found in the dataset\n",
    "if user_age_row:\n",
    "    user_age = user_age_row[0][\"Age\"]\n",
    "\n",
    "    # Create an age_group column by grouping ages by decades\n",
    "    age_group = (int(user_age) // 10) * 10\n",
    "\n",
    "    # Filter the complete dataset for the specified age group\n",
    "    age_group_data = complete_df.filter((complete_df[\"Age\"] >= age_group) & (complete_df[\"Age\"] < age_group + 10))\n",
    "\n",
    "    # Group by ISBN and Book-Title and calculate the average book rating for the user's age group\n",
    "    recommendation_candidates = age_group_data.groupBy(\"ISBN\", \"Book-Title\").agg(mean(\"Book-Rating\").alias(\"avg_rating\")).orderBy(desc(\"avg_rating\"))\n",
    "\n",
    "    # Display the top recommendation candidates for the user's age group\n",
    "    print(f\"Top recommendation candidates for User ID {user_id} (Age Group: {age_group}s):\")\n",
    "    recommendation_candidates.show(10)\n",
    "\n",
    "\n",
    "else:\n",
    "    print(f\"User ID {user_id} not found or invalid age.\")\n"
   ]
  },
  {
   "cell_type": "markdown",
   "metadata": {
    "application/vnd.databricks.v1+cell": {
     "cellMetadata": {},
     "inputWidgets": {},
     "nuid": "8385551f-88a4-418e-ac0d-76de0b313d3a",
     "showTitle": false,
     "title": ""
    }
   },
   "source": [
    "### 15.2.  Trending and Popular Books:\n"
   ]
  },
  {
   "cell_type": "code",
   "execution_count": null,
   "metadata": {
    "application/vnd.databricks.v1+cell": {
     "cellMetadata": {
      "byteLimit": 2048000,
      "rowLimit": 10000
     },
     "inputWidgets": {},
     "nuid": "c056837e-f0f8-4982-a534-79f734bef9bf",
     "showTitle": false,
     "title": ""
    }
   },
   "outputs": [
    {
     "name": "stdout",
     "output_type": "stream",
     "text": [
      "Top trending books:\n",
      "+----------+--------------------+-----+----+\n",
      "|      ISBN|          Book-Title|count|rank|\n",
      "+----------+--------------------+-----+----+\n",
      "|0971880107|         Wild Animus| 2496|   1|\n",
      "|0316666343|The Lovely Bones:...| 1290|   2|\n",
      "|0385504209|   The Da Vinci Code|  881|   3|\n",
      "|0060928336|Divine Secrets of...|  730|   4|\n",
      "|0312195516|The Red Tent (Bes...|  723|   5|\n",
      "|044023722X|     A Painted House|  645|   6|\n",
      "|0142001740|The Secret Life o...|  613|   7|\n",
      "|067976402X|Snow Falling on C...|  611|   8|\n",
      "|0446672211|Where the Heart I...|  583|   9|\n",
      "|0671027360| Angels &amp; Demons|  583|  10|\n",
      "+----------+--------------------+-----+----+\n",
      "\n"
     ]
    }
   ],
   "source": [
    "\n",
    "# Find books with the most recent increase in popularity\n",
    "from pyspark.sql.window import Window\n",
    "trending_books = complete_df.groupBy(\"ISBN\", \"Book-Title\").agg(count(\"User-ID\").alias(\"count\"))\n",
    "trending_books = trending_books.withColumn(\"rank\", F.row_number().over(Window.orderBy(desc(\"count\"))))\n",
    "print(\"Top trending books:\")\n",
    "trending_books.filter(trending_books[\"rank\"] <= 10).show()"
   ]
  },
  {
   "cell_type": "code",
   "execution_count": null,
   "metadata": {
    "application/vnd.databricks.v1+cell": {
     "cellMetadata": {},
     "inputWidgets": {},
     "nuid": "9f69d901-d2ac-403e-aff4-f8a7e8ec9158",
     "showTitle": false,
     "title": ""
    }
   },
   "outputs": [],
   "source": []
  },
  {
   "cell_type": "markdown",
   "metadata": {
    "application/vnd.databricks.v1+cell": {
     "cellMetadata": {},
     "inputWidgets": {},
     "nuid": "79d2756f-02b3-4acb-bba0-071609b1cb9b",
     "showTitle": false,
     "title": ""
    }
   },
   "source": [
    "## 16 Recommendation System\n"
   ]
  },
  {
   "cell_type": "code",
   "execution_count": null,
   "metadata": {
    "application/vnd.databricks.v1+cell": {
     "cellMetadata": {
      "byteLimit": 2048000,
      "rowLimit": 10000
     },
     "inputWidgets": {},
     "nuid": "f9cf4eac-c2a0-4993-b60b-67e743c8ac89",
     "showTitle": false,
     "title": ""
    }
   },
   "outputs": [
    {
     "name": "stdout",
     "output_type": "stream",
     "text": [
      "Root Mean Square Error (RMSE): 8.225154185679177\n",
      "Top 10 book recommendations for each user:\n",
      "+-------+--------------------+\n",
      "|User-ID|     recommendations|\n",
      "+-------+--------------------+\n",
      "|     16|[{4613, 17.305973...|\n",
      "|     22|[{18251, 9.054076...|\n",
      "|     44|[{6172, 9.953985}...|\n",
      "|     53|[{4344, 12.397152...|\n",
      "|     78|[{10215, 8.273531...|\n",
      "+-------+--------------------+\n",
      "only showing top 5 rows\n",
      "\n"
     ]
    }
   ],
   "source": [
    "from pyspark.ml.feature import StringIndexer\n",
    "from pyspark.ml.recommendation import ALS\n",
    "from pyspark.ml.evaluation import RegressionEvaluator\n",
    "\n",
    "# Convert ISBN column from string to numeric values\n",
    "indexer = StringIndexer(inputCol=\"ISBN\", outputCol=\"ISBNIndex\")\n",
    "indexed_df = indexer.fit(complete_df).transform(complete_df)\n",
    "\n",
    "# Prepare the data\n",
    "indexed_df = indexed_df.filter(indexed_df[\"Book-Rating\"] > 0)  # Filter out 0 ratings\n",
    "(training_data, test_data) = indexed_df.randomSplit([0.8, 0.2])  # Split data into training and test sets\n",
    "\n",
    "# Initialize ALS model\n",
    "als = ALS(\n",
    "    maxIter=2,  # Number of iterations to run the algorithm\n",
    "    regParam=0.1,  # Regularization parameter to avoid overfitting\n",
    "    userCol=\"User-ID\",  # Column representing users\n",
    "    itemCol=\"ISBNIndex\",  # Column representing items (books) after indexing\n",
    "    ratingCol=\"Book-Rating\",  # Column representing ratings\n",
    "    coldStartStrategy=\"drop\"  # Strategy to handle cold start (unknown users/items)\n",
    ")\n",
    "\n"
   ]
  },
  {
   "cell_type": "code",
   "execution_count": null,
   "metadata": {
    "application/vnd.databricks.v1+cell": {
     "cellMetadata": {},
     "inputWidgets": {},
     "nuid": "e2313b70-ef59-4e3c-94d1-e178d938cf7c",
     "showTitle": false,
     "title": ""
    }
   },
   "outputs": [],
   "source": [
    "# Train the ALS model\n",
    "model = als.fit(training_data)\n",
    "\n",
    "# Evaluate the model using RMSE\n",
    "evaluator = RegressionEvaluator(\n",
    "    metricName=\"rmse\",\n",
    "    labelCol=\"Book-Rating\",\n",
    "    predictionCol=\"prediction\"\n",
    ")\n",
    "predictions = model.transform(test_data)\n",
    "rmse = evaluator.evaluate(predictions)\n",
    "print(f\"Root Mean Square Error (RMSE): {rmse}\")\n",
    "\n",
    "# Make book recommendations for each user\n",
    "print(\"Top 10 book recommendations for each user:\")\n",
    "user_recommendations = model.recommendForAllUsers(10)\n",
    "user_recommendations.show(5)\n"
   ]
  },
  {
   "cell_type": "code",
   "execution_count": null,
   "metadata": {
    "application/vnd.databricks.v1+cell": {
     "cellMetadata": {
      "byteLimit": 2048000,
      "rowLimit": 10000
     },
     "inputWidgets": {},
     "nuid": "2bcc83e6-1d53-4e1f-a903-94bf42fc0de7",
     "showTitle": false,
     "title": ""
    }
   },
   "outputs": [
    {
     "name": "stdout",
     "output_type": "stream",
     "text": [
      "Top 5 book recommendations (titles) for each user:\n",
      "+-------+----------------------------------------------------------+\n",
      "|User-ID|Book-Title                                                |\n",
      "+-------+----------------------------------------------------------+\n",
      "|255794 |30 Things Everyone Should Know How to Do Before Turning 30|\n",
      "|247059 |30 Things Everyone Should Know How to Do Before Turning 30|\n",
      "|150627 |30 Things Everyone Should Know How to Do Before Turning 30|\n",
      "|129790 |30 Things Everyone Should Know How to Do Before Turning 30|\n",
      "|63865  |30 Things Everyone Should Know How to Do Before Turning 30|\n",
      "|46541  |30 Things Everyone Should Know How to Do Before Turning 30|\n",
      "|166447 |30 Things Everyone Should Know How to Do Before Turning 30|\n",
      "|53042  |30 Things Everyone Should Know How to Do Before Turning 30|\n",
      "|42740  |30 Things Everyone Should Know How to Do Before Turning 30|\n",
      "|234041 |30 Things Everyone Should Know How to Do Before Turning 30|\n",
      "|221777 |30 Things Everyone Should Know How to Do Before Turning 30|\n",
      "|214787 |30 Things Everyone Should Know How to Do Before Turning 30|\n",
      "|193148 |30 Things Everyone Should Know How to Do Before Turning 30|\n",
      "|132479 |30 Things Everyone Should Know How to Do Before Turning 30|\n",
      "|51350  |30 Things Everyone Should Know How to Do Before Turning 30|\n",
      "|25105  |30 Things Everyone Should Know How to Do Before Turning 30|\n",
      "|183    |30 Things Everyone Should Know How to Do Before Turning 30|\n",
      "|202759 |Between Silk and Cyanide: A Codemaker's War, 1941-1945    |\n",
      "|6210   |Between Silk and Cyanide: A Codemaker's War, 1941-1945    |\n",
      "|178478 |Between Silk and Cyanide: A Codemaker's War, 1941-1945    |\n",
      "+-------+----------------------------------------------------------+\n",
      "only showing top 20 rows\n",
      "\n"
     ]
    }
   ],
   "source": [
    "\n",
    "# Make book recommendations for each user\n",
    "user_recommendations = model.recommendForAllUsers(5)  # Recommend 5 books for each user\n",
    "\n",
    "# Explode the recommendations array to get individual recommendations\n",
    "exploded_recommendations = user_recommendations \\\n",
    "    .withColumn(\"recommendation\", explode(user_recommendations[\"recommendations\"])) \\\n",
    "    .select(col(\"User-ID\"), col(\"recommendation.ISBNIndex\").alias(\"ISBNIndex\"))\n",
    "\n",
    "# Join with indexed_df to get the complete book titles based on ISBNIndex\n",
    "user_recommendations_with_titles = exploded_recommendations \\\n",
    "    .join(indexed_df, \"ISBNIndex\") \\\n",
    "    .select(exploded_recommendations[\"User-ID\"], indexed_df[\"Book-Title\"])\n",
    "\n",
    "# Show 5 recommendations of book titles for each user\n",
    "print(\"Top 5 book recommendations (titles) for each user:\")\n",
    "user_recommendations_with_titles.show(truncate=False)\n"
   ]
  },
  {
   "cell_type": "code",
   "execution_count": null,
   "metadata": {
    "application/vnd.databricks.v1+cell": {
     "cellMetadata": {},
     "inputWidgets": {},
     "nuid": "8659c682-43d2-4bd7-9b6b-47356f8a3612",
     "showTitle": false,
     "title": ""
    }
   },
   "outputs": [],
   "source": []
  }
 ],
 "metadata": {
  "application/vnd.databricks.v1+notebook": {
   "dashboards": [],
   "language": "python",
   "notebookMetadata": {
    "pythonIndentUnit": 4
   },
   "notebookName": "PySpark Data Analysis and Book Recommendation System Project",
   "widgets": {}
  },
  "language_info": {
   "name": "python"
  }
 },
 "nbformat": 4,
 "nbformat_minor": 0
}
